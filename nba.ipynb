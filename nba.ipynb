{
 "cells": [
  {
   "cell_type": "code",
   "execution_count": 1,
   "metadata": {},
   "outputs": [],
   "source": [
    "import glob\n",
    "import os\n",
    "import pandas as pd\n",
    "\n",
    "from catchment import models, views\n",
    "\n",
    "\n",
    "\n",
    "def analyse_data(data_dir):\n",
    "    \"\"\"Calculate the standard deviation by day between datasets.\n",
    "\n",
    "    Gets all the measurement data from the CSV files in the data directory,\n",
    "    works out the mean for each day, and then graphs the standard deviation\n",
    "    of these means.\n",
    "    \"\"\"\n",
    "    data_file_paths = glob.glob(os.path.join(data_dir, 'rain_data_2015*.csv'))\n",
    "    if len(data_file_paths) == 0:\n",
    "        raise ValueError('No CSV files found in the data directory')\n",
    "    data = map(models.read_variable_from_csv, data_file_paths)\n",
    "\n",
    "    daily_std_list = []\n",
    "    for dataset in data:\n",
    "        daily_std = dataset.groupby(dataset.index.date).std()\n",
    "        daily_std_list.append(daily_std)\n",
    "    \n",
    "    daily_standard_deviation = pd.concat(daily_std_list)\n",
    "    return daily_standard_deviation"
   ]
  },
  {
   "cell_type": "code",
   "execution_count": 2,
   "metadata": {},
   "outputs": [],
   "source": [
    "def compute_standard_deviation_by_day(data):\n",
    "    daily_std_list = []\n",
    "    for dataset in data:\n",
    "        daily_std = dataset.groupby(dataset.index.date).std()\n",
    "        daily_std_list.append(daily_std)\n",
    "    \n",
    "    return pd.concat(daily_std_list)\n",
    "\n"
   ]
  },
  {
   "cell_type": "code",
   "execution_count": 3,
   "metadata": {},
   "outputs": [],
   "source": [
    "def daily_std(dataset):\n",
    "    return dataset.groupby(dataset.index.date).std()\n",
    "\n",
    "def map_compute_standard_deviation_by_day(data):\n",
    "    daily_std_list = map(daily_std, data)\n",
    "    return pd.concat(daily_std_list)\n"
   ]
  },
  {
   "cell_type": "code",
   "execution_count": 4,
   "metadata": {},
   "outputs": [],
   "source": []
  },
  {
   "cell_type": "code",
   "execution_count": null,
   "metadata": {},
   "outputs": [],
   "source": []
  }
 ],
 "metadata": {
  "kernelspec": {
   "display_name": "venv",
   "language": "python",
   "name": "python3"
  },
  "language_info": {
   "codemirror_mode": {
    "name": "ipython",
    "version": 3
   },
   "file_extension": ".py",
   "mimetype": "text/x-python",
   "name": "python",
   "nbconvert_exporter": "python",
   "pygments_lexer": "ipython3",
   "version": "3.12.2"
  }
 },
 "nbformat": 4,
 "nbformat_minor": 2
}
