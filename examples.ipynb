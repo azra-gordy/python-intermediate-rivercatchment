{
 "cells": [
  {
   "cell_type": "code",
   "execution_count": 38,
   "metadata": {},
   "outputs": [],
   "source": [
    "import math\n",
    "import argparse\n",
    "class Circle:\n",
    "    def __init__(self, radius):\n",
    "        self.radius = radius\n",
    "    def get_area(self):\n",
    "        return math.pi * self.radius**2\n",
    "    def get_perimeter(self):\n",
    "        return math.pi * self.radius*2\n",
    "    \n",
    "class Rectangle:\n",
    "    def __init__(self, width, height):\n",
    "        self.width = width\n",
    "        self.height = height\n",
    "    def get_area(self):\n",
    "        return self.width * self.height\n",
    "    def get_perimeter(self):\n",
    "        return 2*(self.width + self.height)"
   ]
  },
  {
   "cell_type": "code",
   "execution_count": 39,
   "metadata": {},
   "outputs": [
    {
     "name": "stdout",
     "output_type": "stream",
     "text": [
      "\t\tMy circle\n",
      "------------------------------------------\n",
      "Radius\t\t:\t 10 \n",
      "Area\t\t:\t 314.1592653589793 \n",
      "Circumference\t:\t 62.83185307179586\n"
     ]
    }
   ],
   "source": [
    "circ = Circle(10)\n",
    "print('\\t\\tMy circle')\n",
    "print('-'*42)\n",
    "print('Radius\\t\\t:\\t',circ.radius, '\\nArea\\t\\t:\\t', circ.get_area(), '\\nCircumference\\t:\\t',circ.get_perimeter())"
   ]
  },
  {
   "cell_type": "code",
   "execution_count": 41,
   "metadata": {},
   "outputs": [
    {
     "name": "stdout",
     "output_type": "stream",
     "text": [
      "\t\tMy rectangle\n",
      "------------------------------------------\n",
      "(Width, Height)\t:\t (10, 20) \n",
      "Area\t\t:\t 200 \n",
      "Circumference\t:\t 60\n"
     ]
    }
   ],
   "source": [
    "rect = Rectangle(10,20)\n",
    "print('\\t\\tMy rectangle')\n",
    "print('-'*42)\n",
    "print('(Width, Height)\\t:\\t',(rect.width, rect.height), '\\nArea\\t\\t:\\t', rect.get_area(), '\\nCircumference\\t:\\t',rect.get_perimeter())"
   ]
  },
  {
   "cell_type": "code",
   "execution_count": null,
   "metadata": {},
   "outputs": [],
   "source": []
  }
 ],
 "metadata": {
  "kernelspec": {
   "display_name": "venv",
   "language": "python",
   "name": "python3"
  },
  "language_info": {
   "codemirror_mode": {
    "name": "ipython",
    "version": 3
   },
   "file_extension": ".py",
   "mimetype": "text/x-python",
   "name": "python",
   "nbconvert_exporter": "python",
   "pygments_lexer": "ipython3",
   "version": "3.11.8"
  }
 },
 "nbformat": 4,
 "nbformat_minor": 2
}
